{
 "cells": [
  {
   "cell_type": "markdown",
   "id": "349a202c",
   "metadata": {},
   "source": [
    "# Step 1: Read the data"
   ]
  },
  {
   "cell_type": "code",
   "execution_count": 1,
   "id": "2dacf08b",
   "metadata": {},
   "outputs": [
    {
     "data": {
      "text/html": [
       "<div>\n",
       "<style scoped>\n",
       "    .dataframe tbody tr th:only-of-type {\n",
       "        vertical-align: middle;\n",
       "    }\n",
       "\n",
       "    .dataframe tbody tr th {\n",
       "        vertical-align: top;\n",
       "    }\n",
       "\n",
       "    .dataframe thead th {\n",
       "        text-align: right;\n",
       "    }\n",
       "</style>\n",
       "<table border=\"1\" class=\"dataframe\">\n",
       "  <thead>\n",
       "    <tr style=\"text-align: right;\">\n",
       "      <th></th>\n",
       "      <th>Gender</th>\n",
       "      <th>Age</th>\n",
       "      <th>Height</th>\n",
       "      <th>Weight</th>\n",
       "      <th>Duration</th>\n",
       "      <th>Heart_Rate</th>\n",
       "      <th>Body_Temp</th>\n",
       "      <th>Calories</th>\n",
       "    </tr>\n",
       "    <tr>\n",
       "      <th>User_ID</th>\n",
       "      <th></th>\n",
       "      <th></th>\n",
       "      <th></th>\n",
       "      <th></th>\n",
       "      <th></th>\n",
       "      <th></th>\n",
       "      <th></th>\n",
       "      <th></th>\n",
       "    </tr>\n",
       "  </thead>\n",
       "  <tbody>\n",
       "    <tr>\n",
       "      <th>14733363</th>\n",
       "      <td>male</td>\n",
       "      <td>68</td>\n",
       "      <td>190.0</td>\n",
       "      <td>94.0</td>\n",
       "      <td>29.0</td>\n",
       "      <td>105.0</td>\n",
       "      <td>40.8</td>\n",
       "      <td>231.0</td>\n",
       "    </tr>\n",
       "    <tr>\n",
       "      <th>14861698</th>\n",
       "      <td>female</td>\n",
       "      <td>20</td>\n",
       "      <td>166.0</td>\n",
       "      <td>60.0</td>\n",
       "      <td>14.0</td>\n",
       "      <td>94.0</td>\n",
       "      <td>40.3</td>\n",
       "      <td>66.0</td>\n",
       "    </tr>\n",
       "    <tr>\n",
       "      <th>11179863</th>\n",
       "      <td>male</td>\n",
       "      <td>69</td>\n",
       "      <td>179.0</td>\n",
       "      <td>79.0</td>\n",
       "      <td>5.0</td>\n",
       "      <td>88.0</td>\n",
       "      <td>38.7</td>\n",
       "      <td>26.0</td>\n",
       "    </tr>\n",
       "    <tr>\n",
       "      <th>16180408</th>\n",
       "      <td>female</td>\n",
       "      <td>34</td>\n",
       "      <td>179.0</td>\n",
       "      <td>71.0</td>\n",
       "      <td>13.0</td>\n",
       "      <td>100.0</td>\n",
       "      <td>40.5</td>\n",
       "      <td>71.0</td>\n",
       "    </tr>\n",
       "    <tr>\n",
       "      <th>17771927</th>\n",
       "      <td>female</td>\n",
       "      <td>27</td>\n",
       "      <td>154.0</td>\n",
       "      <td>58.0</td>\n",
       "      <td>10.0</td>\n",
       "      <td>81.0</td>\n",
       "      <td>39.8</td>\n",
       "      <td>35.0</td>\n",
       "    </tr>\n",
       "  </tbody>\n",
       "</table>\n",
       "</div>"
      ],
      "text/plain": [
       "          Gender  Age  Height  Weight  Duration  Heart_Rate  Body_Temp  \\\n",
       "User_ID                                                                  \n",
       "14733363    male   68   190.0    94.0      29.0       105.0       40.8   \n",
       "14861698  female   20   166.0    60.0      14.0        94.0       40.3   \n",
       "11179863    male   69   179.0    79.0       5.0        88.0       38.7   \n",
       "16180408  female   34   179.0    71.0      13.0       100.0       40.5   \n",
       "17771927  female   27   154.0    58.0      10.0        81.0       39.8   \n",
       "\n",
       "          Calories  \n",
       "User_ID             \n",
       "14733363     231.0  \n",
       "14861698      66.0  \n",
       "11179863      26.0  \n",
       "16180408      71.0  \n",
       "17771927      35.0  "
      ]
     },
     "execution_count": 1,
     "metadata": {},
     "output_type": "execute_result"
    }
   ],
   "source": [
    "import pandas as pd\n",
    "\n",
    "# Reading the data\n",
    "df = pd.read_csv(\"calories.csv\", index_col=0)\n",
    "df.head()"
   ]
  },
  {
   "cell_type": "markdown",
   "id": "6dd0ec82",
   "metadata": {},
   "source": [
    "# Step 2: Define the input and target features"
   ]
  },
  {
   "cell_type": "code",
   "execution_count": 2,
   "id": "46528456",
   "metadata": {},
   "outputs": [],
   "source": [
    "X = df.drop(columns=[\"Calories\"], axis=1)\n",
    "y = df[\"Calories\"]\n",
    "\n",
    "X[\"Gender\"] = X[\"Gender\"].map({\"female\": 0, \"male\": 1})"
   ]
  },
  {
   "cell_type": "markdown",
   "id": "321c8fea",
   "metadata": {},
   "source": [
    "# Step 3: Run a 5-fold cross validation"
   ]
  },
  {
   "cell_type": "code",
   "execution_count": 6,
   "id": "aed69dd1",
   "metadata": {},
   "outputs": [
    {
     "name": "stdout",
     "output_type": "stream",
     "text": [
      "5-Fold CV RMSE: 0.69 ± 0.03\n"
     ]
    }
   ],
   "source": [
    "from sklearn.preprocessing import StandardScaler\n",
    "from sklearn.model_selection import KFold, cross_val_score\n",
    "from sklearn.pipeline import make_pipeline\n",
    "from sklearn.neural_network import MLPRegressor\n",
    "\n",
    "# Defining the model \n",
    "mlp_md = make_pipeline(\n",
    "    StandardScaler(),\n",
    "    MLPRegressor(hidden_layer_sizes=(16),\n",
    "                 activation=\"relu\",\n",
    "                 max_iter=10000,\n",
    "                 random_state=42))\n",
    "\n",
    "# Defining the cross-validation method\n",
    "skf = KFold(n_splits=5, shuffle=True, random_state=42)\n",
    "\n",
    "# Running cross-validation\n",
    "mlp_cv = cross_val_score(mlp_md, X, y, cv=skf, scoring=\"neg_root_mean_squared_error\", n_jobs=-1)\n",
    "\n",
    "print(f\"5-Fold CV RMSE: {-mlp_cv.mean():.2f} ± {mlp_cv.std():.2f}\")"
   ]
  },
  {
   "cell_type": "markdown",
   "id": "3c0ade3d",
   "metadata": {},
   "source": [
    "# Engineering Interaction Features"
   ]
  },
  {
   "cell_type": "code",
   "execution_count": 7,
   "id": "f79f401b",
   "metadata": {},
   "outputs": [],
   "source": [
    "cols = X.columns.tolist()\n",
    "\n",
    "from itertools import combinations\n",
    "for col1, col2 in combinations(cols, 2):\n",
    "    X[f\"{col1}_x_{col2}\"] = X[col1] * X[col2]"
   ]
  },
  {
   "cell_type": "code",
   "execution_count": 8,
   "id": "0a131a19",
   "metadata": {},
   "outputs": [
    {
     "name": "stdout",
     "output_type": "stream",
     "text": [
      "5-Fold CV RMSE: 0.47 ± 0.02\n"
     ]
    }
   ],
   "source": [
    "from sklearn.preprocessing import StandardScaler\n",
    "from sklearn.model_selection import KFold, cross_val_score\n",
    "from sklearn.pipeline import make_pipeline\n",
    "from sklearn.neural_network import MLPRegressor\n",
    "\n",
    "# Defining the model \n",
    "mlp_md = make_pipeline(\n",
    "    StandardScaler(),\n",
    "    MLPRegressor(hidden_layer_sizes=(16),\n",
    "                 activation=\"relu\",\n",
    "                 max_iter=10000,\n",
    "                 random_state=42))\n",
    "\n",
    "# Defining the cross-validation method\n",
    "skf = KFold(n_splits=5, shuffle=True, random_state=42)\n",
    "\n",
    "# Running cross-validation\n",
    "mlp_cv = cross_val_score(mlp_md, X, y, cv=skf, scoring=\"neg_root_mean_squared_error\", n_jobs=-1)\n",
    "\n",
    "print(f\"5-Fold CV RMSE: {-mlp_cv.mean():.2f} ± {mlp_cv.std():.2f}\")"
   ]
  },
  {
   "cell_type": "code",
   "execution_count": 10,
   "id": "cb2f6087",
   "metadata": {},
   "outputs": [
    {
     "name": "stdout",
     "output_type": "stream",
     "text": [
      "5-Fold CV RMSE: 0.47 ± 0.04\n"
     ]
    }
   ],
   "source": [
    "from sklearn.preprocessing import StandardScaler\n",
    "from sklearn.model_selection import KFold, cross_val_score\n",
    "from sklearn.pipeline import make_pipeline\n",
    "from sklearn.neural_network import MLPRegressor\n",
    "\n",
    "# Defining the model \n",
    "mlp_md = make_pipeline(\n",
    "    StandardScaler(),\n",
    "    MLPRegressor(hidden_layer_sizes=(16),\n",
    "                 activation=\"relu\",\n",
    "                 solver=\"sgd\",\n",
    "                 max_iter=10000,\n",
    "                 random_state=42))\n",
    "\n",
    "# Defining the cross-validation method\n",
    "skf = KFold(n_splits=5, shuffle=True, random_state=42)\n",
    "\n",
    "# Running cross-validation\n",
    "mlp_cv = cross_val_score(mlp_md, X, y, cv=skf, scoring=\"neg_root_mean_squared_error\", n_jobs=-1)\n",
    "\n",
    "print(f\"5-Fold CV RMSE: {-mlp_cv.mean():.2f} ± {mlp_cv.std():.2f}\")"
   ]
  },
  {
   "cell_type": "code",
   "execution_count": 11,
   "id": "dedf539d",
   "metadata": {},
   "outputs": [
    {
     "name": "stdout",
     "output_type": "stream",
     "text": [
      "5-Fold CV RMSE: 0.41 ± 0.02\n"
     ]
    }
   ],
   "source": [
    "from sklearn.preprocessing import StandardScaler\n",
    "from sklearn.model_selection import KFold, cross_val_score\n",
    "from sklearn.pipeline import make_pipeline\n",
    "from sklearn.neural_network import MLPRegressor\n",
    "\n",
    "# Defining the model \n",
    "mlp_md = make_pipeline(\n",
    "    StandardScaler(),\n",
    "    MLPRegressor(hidden_layer_sizes=(16),\n",
    "                 activation=\"relu\",\n",
    "                 solver=\"sgd\",\n",
    "                 max_iter=10000,\n",
    "                 early_stopping=True,\n",
    "                 n_iter_no_change=1000,\n",
    "                 random_state=42))\n",
    "\n",
    "# Defining the cross-validation method\n",
    "skf = KFold(n_splits=5, shuffle=True, random_state=42)\n",
    "\n",
    "# Running cross-validation\n",
    "mlp_cv = cross_val_score(mlp_md, X, y, cv=skf, scoring=\"neg_root_mean_squared_error\", n_jobs=-1)\n",
    "\n",
    "print(f\"5-Fold CV RMSE: {-mlp_cv.mean():.2f} ± {mlp_cv.std():.2f}\")"
   ]
  }
 ],
 "metadata": {
  "kernelspec": {
   "display_name": "Python 3",
   "language": "python",
   "name": "python3"
  },
  "language_info": {
   "codemirror_mode": {
    "name": "ipython",
    "version": 3
   },
   "file_extension": ".py",
   "mimetype": "text/x-python",
   "name": "python",
   "nbconvert_exporter": "python",
   "pygments_lexer": "ipython3",
   "version": "3.10.12"
  }
 },
 "nbformat": 4,
 "nbformat_minor": 5
}
