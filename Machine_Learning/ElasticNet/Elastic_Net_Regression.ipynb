{
 "cells": [
  {
   "cell_type": "markdown",
   "id": "349a202c",
   "metadata": {},
   "source": [
    "# Step 1: Read the data"
   ]
  },
  {
   "cell_type": "code",
   "execution_count": 15,
   "id": "2dacf08b",
   "metadata": {},
   "outputs": [
    {
     "data": {
      "text/html": [
       "<div>\n",
       "<style scoped>\n",
       "    .dataframe tbody tr th:only-of-type {\n",
       "        vertical-align: middle;\n",
       "    }\n",
       "\n",
       "    .dataframe tbody tr th {\n",
       "        vertical-align: top;\n",
       "    }\n",
       "\n",
       "    .dataframe thead th {\n",
       "        text-align: right;\n",
       "    }\n",
       "</style>\n",
       "<table border=\"1\" class=\"dataframe\">\n",
       "  <thead>\n",
       "    <tr style=\"text-align: right;\">\n",
       "      <th></th>\n",
       "      <th>Gender</th>\n",
       "      <th>Age</th>\n",
       "      <th>Height</th>\n",
       "      <th>Weight</th>\n",
       "      <th>Duration</th>\n",
       "      <th>Heart_Rate</th>\n",
       "      <th>Body_Temp</th>\n",
       "      <th>Calories</th>\n",
       "    </tr>\n",
       "    <tr>\n",
       "      <th>User_ID</th>\n",
       "      <th></th>\n",
       "      <th></th>\n",
       "      <th></th>\n",
       "      <th></th>\n",
       "      <th></th>\n",
       "      <th></th>\n",
       "      <th></th>\n",
       "      <th></th>\n",
       "    </tr>\n",
       "  </thead>\n",
       "  <tbody>\n",
       "    <tr>\n",
       "      <th>14733363</th>\n",
       "      <td>male</td>\n",
       "      <td>68</td>\n",
       "      <td>190.0</td>\n",
       "      <td>94.0</td>\n",
       "      <td>29.0</td>\n",
       "      <td>105.0</td>\n",
       "      <td>40.8</td>\n",
       "      <td>231.0</td>\n",
       "    </tr>\n",
       "    <tr>\n",
       "      <th>14861698</th>\n",
       "      <td>female</td>\n",
       "      <td>20</td>\n",
       "      <td>166.0</td>\n",
       "      <td>60.0</td>\n",
       "      <td>14.0</td>\n",
       "      <td>94.0</td>\n",
       "      <td>40.3</td>\n",
       "      <td>66.0</td>\n",
       "    </tr>\n",
       "    <tr>\n",
       "      <th>11179863</th>\n",
       "      <td>male</td>\n",
       "      <td>69</td>\n",
       "      <td>179.0</td>\n",
       "      <td>79.0</td>\n",
       "      <td>5.0</td>\n",
       "      <td>88.0</td>\n",
       "      <td>38.7</td>\n",
       "      <td>26.0</td>\n",
       "    </tr>\n",
       "    <tr>\n",
       "      <th>16180408</th>\n",
       "      <td>female</td>\n",
       "      <td>34</td>\n",
       "      <td>179.0</td>\n",
       "      <td>71.0</td>\n",
       "      <td>13.0</td>\n",
       "      <td>100.0</td>\n",
       "      <td>40.5</td>\n",
       "      <td>71.0</td>\n",
       "    </tr>\n",
       "    <tr>\n",
       "      <th>17771927</th>\n",
       "      <td>female</td>\n",
       "      <td>27</td>\n",
       "      <td>154.0</td>\n",
       "      <td>58.0</td>\n",
       "      <td>10.0</td>\n",
       "      <td>81.0</td>\n",
       "      <td>39.8</td>\n",
       "      <td>35.0</td>\n",
       "    </tr>\n",
       "  </tbody>\n",
       "</table>\n",
       "</div>"
      ],
      "text/plain": [
       "          Gender  Age  Height  Weight  Duration  Heart_Rate  Body_Temp  \\\n",
       "User_ID                                                                  \n",
       "14733363    male   68   190.0    94.0      29.0       105.0       40.8   \n",
       "14861698  female   20   166.0    60.0      14.0        94.0       40.3   \n",
       "11179863    male   69   179.0    79.0       5.0        88.0       38.7   \n",
       "16180408  female   34   179.0    71.0      13.0       100.0       40.5   \n",
       "17771927  female   27   154.0    58.0      10.0        81.0       39.8   \n",
       "\n",
       "          Calories  \n",
       "User_ID             \n",
       "14733363     231.0  \n",
       "14861698      66.0  \n",
       "11179863      26.0  \n",
       "16180408      71.0  \n",
       "17771927      35.0  "
      ]
     },
     "execution_count": 15,
     "metadata": {},
     "output_type": "execute_result"
    }
   ],
   "source": [
    "import pandas as pd\n",
    "\n",
    "# Reading the data\n",
    "df = pd.read_csv(\"calories.csv\", index_col=0)\n",
    "df.head()"
   ]
  },
  {
   "cell_type": "markdown",
   "id": "6dd0ec82",
   "metadata": {},
   "source": [
    "# Step 2: Define the input and target features"
   ]
  },
  {
   "cell_type": "code",
   "execution_count": 16,
   "id": "46528456",
   "metadata": {},
   "outputs": [],
   "source": [
    "X = df.drop(columns=[\"Calories\"], axis=1)\n",
    "y = df[\"Calories\"]\n",
    "\n",
    "X[\"Gender\"] = X[\"Gender\"].map({\"female\": 0, \"male\": 1})"
   ]
  },
  {
   "cell_type": "markdown",
   "id": "321c8fea",
   "metadata": {},
   "source": [
    "# Step 3: Run a 5-fold cross validation"
   ]
  },
  {
   "cell_type": "code",
   "execution_count": 17,
   "id": "aed69dd1",
   "metadata": {},
   "outputs": [
    {
     "name": "stdout",
     "output_type": "stream",
     "text": [
      "ElasticNet CV RMSE: 19.50 ± 0.33\n"
     ]
    }
   ],
   "source": [
    "from sklearn.model_selection import cross_val_score, KFold\n",
    "from sklearn.preprocessing import StandardScaler\n",
    "from sklearn.pipeline import make_pipeline, Pipeline\n",
    "from sklearn.linear_model import ElasticNet\n",
    "\n",
    "# Defining the model \n",
    "elastic_md = make_pipeline(StandardScaler(), ElasticNet())\n",
    "\n",
    "# Cross-validation\n",
    "skf = KFold(n_splits=5, shuffle=True, random_state=42)\n",
    "elastic_cv = cross_val_score(elastic_md, X, y, cv=skf, scoring=\"neg_root_mean_squared_error\", n_jobs=-1)\n",
    "\n",
    "print(f\"ElasticNet CV RMSE: {-elastic_cv.mean():.2f} ± {elastic_cv.std():.2f}\")\n"
   ]
  },
  {
   "cell_type": "markdown",
   "id": "9dbedbbe",
   "metadata": {},
   "source": [
    "# Engineering Interaction Features"
   ]
  },
  {
   "cell_type": "code",
   "execution_count": 18,
   "id": "11e28f94",
   "metadata": {},
   "outputs": [],
   "source": [
    "cols = X.columns.tolist()\n",
    "\n",
    "from itertools import combinations\n",
    "for col1, col2 in combinations(cols, 2):\n",
    "    X[f\"{col1}_x_{col2}\"] = X[col1] * X[col2]"
   ]
  },
  {
   "cell_type": "code",
   "execution_count": 19,
   "id": "818d103d",
   "metadata": {},
   "outputs": [
    {
     "name": "stdout",
     "output_type": "stream",
     "text": [
      "ElasticNet CV RMSE: 12.04 ± 0.19\n"
     ]
    }
   ],
   "source": [
    "# Defining the model \n",
    "elastic_md = make_pipeline(StandardScaler(), ElasticNet())\n",
    "\n",
    "# Cross-validation\n",
    "skf = KFold(n_splits=5, shuffle=True, random_state=42)\n",
    "elastic_cv = cross_val_score(elastic_md, X, y, cv=skf, scoring=\"neg_root_mean_squared_error\", n_jobs=-1)\n",
    "\n",
    "print(f\"ElasticNet CV RMSE: {-elastic_cv.mean():.2f} ± {elastic_cv.std():.2f}\")"
   ]
  },
  {
   "cell_type": "markdown",
   "id": "12bd3fe9",
   "metadata": {},
   "source": [
    "# Estimating the optimal values for alpha and l1_ratio"
   ]
  },
  {
   "cell_type": "code",
   "execution_count": 21,
   "id": "ae0cf964",
   "metadata": {},
   "outputs": [
    {
     "name": "stdout",
     "output_type": "stream",
     "text": [
      "Optimal alpha: 0.001\n",
      "Optimal l1_ratio: 1.0\n"
     ]
    }
   ],
   "source": [
    "import numpy as np\n",
    "from sklearn.linear_model import ElasticNetCV\n",
    "\n",
    "# Defining the range of alpha and l1_ratio values to test\n",
    "alphas = np.linspace(0.001, 10, 100)\n",
    "l1_ratios = np.linspace(0.001, 1, 100)\n",
    "\n",
    "# Defining the model\n",
    "elastic_cv_alpha_l1 = Pipeline([\n",
    "    (\"scaler\", StandardScaler()),\n",
    "    (\"elastic_net_cv\", ElasticNetCV(alphas=alphas, l1_ratio=l1_ratios, cv=skf, max_iter=100000))\n",
    "])\n",
    "\n",
    "elastic_cv_alpha_l1.fit(X, y)\n",
    "\n",
    "print(f\"Optimal alpha: {elastic_cv_alpha_l1.named_steps['elastic_net_cv'].alpha_}\")\n",
    "print(f\"Optimal l1_ratio: {elastic_cv_alpha_l1.named_steps['elastic_net_cv'].l1_ratio_}\")"
   ]
  },
  {
   "cell_type": "markdown",
   "id": "c0a27120",
   "metadata": {},
   "source": [
    "# Re-training the ElasticNet Model "
   ]
  },
  {
   "cell_type": "code",
   "execution_count": 23,
   "id": "b5b67ede",
   "metadata": {},
   "outputs": [
    {
     "name": "stdout",
     "output_type": "stream",
     "text": [
      "ElasticNet CV RMSE: 3.01 ± 0.02\n"
     ]
    }
   ],
   "source": [
    "# Defining the model \n",
    "elastic_md = make_pipeline(StandardScaler(), ElasticNet(alpha=0.001, l1_ratio=1.0, max_iter=100000))\n",
    "\n",
    "# Cross-validation\n",
    "skf = KFold(n_splits=5, shuffle=True, random_state=42)\n",
    "elastic_cv = cross_val_score(elastic_md, X, y, cv=skf, scoring=\"neg_root_mean_squared_error\", n_jobs=-1)\n",
    "\n",
    "print(f\"ElasticNet CV RMSE: {-elastic_cv.mean():.2f} ± {elastic_cv.std():.2f}\")"
   ]
  }
 ],
 "metadata": {
  "kernelspec": {
   "display_name": "Python 3",
   "language": "python",
   "name": "python3"
  },
  "language_info": {
   "codemirror_mode": {
    "name": "ipython",
    "version": 3
   },
   "file_extension": ".py",
   "mimetype": "text/x-python",
   "name": "python",
   "nbconvert_exporter": "python",
   "pygments_lexer": "ipython3",
   "version": "3.10.12"
  }
 },
 "nbformat": 4,
 "nbformat_minor": 5
}
