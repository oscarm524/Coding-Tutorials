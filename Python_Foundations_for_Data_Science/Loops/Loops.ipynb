{
 "cells": [
  {
   "cell_type": "markdown",
   "id": "12e0662d",
   "metadata": {},
   "source": [
    "# Exercise 1\n",
    "\n",
    "Use a `for` loop to print numbers from 1 to 10.\n"
   ]
  },
  {
   "cell_type": "code",
   "execution_count": 1,
   "id": "c5ff5707",
   "metadata": {},
   "outputs": [
    {
     "name": "stdout",
     "output_type": "stream",
     "text": [
      "1\n",
      "2\n",
      "3\n",
      "4\n",
      "5\n",
      "6\n",
      "7\n",
      "8\n",
      "9\n",
      "10\n"
     ]
    }
   ],
   "source": [
    "for i in range(1, 11):\n",
    "    print(i)"
   ]
  },
  {
   "cell_type": "code",
   "execution_count": 2,
   "id": "a99b3791",
   "metadata": {},
   "outputs": [
    {
     "name": "stdout",
     "output_type": "stream",
     "text": [
      "1\n",
      "2\n",
      "3\n",
      "4\n",
      "5\n",
      "6\n",
      "7\n",
      "8\n",
      "9\n",
      "10\n"
     ]
    }
   ],
   "source": [
    "i = 1\n",
    "while i <= 10:\n",
    "    print(i)\n",
    "    i += 1"
   ]
  },
  {
   "cell_type": "markdown",
   "id": "07e39c32",
   "metadata": {},
   "source": [
    "# Exercise 2 \n",
    "\n",
    "Write a loop to calculate the sum of numbers from 1 to 100."
   ]
  },
  {
   "cell_type": "code",
   "execution_count": 3,
   "id": "35d2b7ce",
   "metadata": {},
   "outputs": [
    {
     "name": "stdout",
     "output_type": "stream",
     "text": [
      "The sum of the first 100 numbers is: 5050\n"
     ]
    }
   ],
   "source": [
    "total_sum = 0\n",
    "\n",
    "for i in range(1, 101):\n",
    "    total_sum = total_sum + i\n",
    "\n",
    "print(\"The sum of the first 100 numbers is:\", total_sum)"
   ]
  },
  {
   "cell_type": "markdown",
   "id": "4c50687f",
   "metadata": {},
   "source": [
    "# Exercise 3 \n",
    "\n",
    "Print all even numbers from 1 to 20."
   ]
  },
  {
   "cell_type": "code",
   "execution_count": 4,
   "id": "b90b5fc6",
   "metadata": {},
   "outputs": [
    {
     "name": "stdout",
     "output_type": "stream",
     "text": [
      "2\n",
      "4\n",
      "6\n",
      "8\n",
      "10\n",
      "12\n",
      "14\n",
      "16\n",
      "18\n",
      "20\n"
     ]
    }
   ],
   "source": [
    "for i in range(1, 21):\n",
    "    if i % 2 == 0:\n",
    "        print(i)"
   ]
  },
  {
   "cell_type": "markdown",
   "id": "69767ea8",
   "metadata": {},
   "source": [
    "# Exercise 4\n",
    "\n",
    "Write a `while` loop that counts down from 10 to 1."
   ]
  },
  {
   "cell_type": "code",
   "execution_count": 5,
   "id": "fa70f731",
   "metadata": {},
   "outputs": [
    {
     "name": "stdout",
     "output_type": "stream",
     "text": [
      "10\n",
      "9\n",
      "8\n",
      "7\n",
      "6\n",
      "5\n",
      "4\n",
      "3\n",
      "2\n",
      "1\n"
     ]
    }
   ],
   "source": [
    "i = 10\n",
    "\n",
    "while i >= 1:\n",
    "    print(i)\n",
    "    i -= 1"
   ]
  },
  {
   "cell_type": "markdown",
   "id": "73fcf21f",
   "metadata": {},
   "source": [
    "# Exercise 5\n",
    "\n",
    "Count the number of vowels in the string `programming`."
   ]
  },
  {
   "cell_type": "code",
   "execution_count": 6,
   "id": "f2c3a61a",
   "metadata": {},
   "outputs": [
    {
     "name": "stdout",
     "output_type": "stream",
     "text": [
      "Number of vowels in the word 'programming': 3\n"
     ]
    }
   ],
   "source": [
    "text = \"programming\"\n",
    "vowels = \"aeiou\"\n",
    "\n",
    "number_of_vowels = 0\n",
    "for char in text:\n",
    "    if char in vowels:\n",
    "        number_of_vowels = number_of_vowels + 1\n",
    "\n",
    "print(\"Number of vowels in the word 'programming':\", number_of_vowels)"
   ]
  },
  {
   "cell_type": "markdown",
   "id": "de4b67d3",
   "metadata": {},
   "source": [
    "# Exercise 6\n",
    "\n",
    "Print the multiplication table of 3 up to 10 with a `for` loop."
   ]
  },
  {
   "cell_type": "code",
   "execution_count": 7,
   "id": "2727c8d5",
   "metadata": {},
   "outputs": [
    {
     "name": "stdout",
     "output_type": "stream",
     "text": [
      "3 x 1 = 3\n",
      "3 x 2 = 6\n",
      "3 x 3 = 9\n",
      "3 x 4 = 12\n",
      "3 x 5 = 15\n",
      "3 x 6 = 18\n",
      "3 x 7 = 21\n",
      "3 x 8 = 24\n",
      "3 x 9 = 27\n",
      "3 x 10 = 30\n"
     ]
    }
   ],
   "source": [
    "for i in range(1, 11):\n",
    "    print(\"3 x\", i, \"=\", 3 * i)"
   ]
  },
  {
   "cell_type": "markdown",
   "id": "2b0816e5",
   "metadata": {},
   "source": [
    "# Exercise 7\n",
    "\n",
    "Loop through 1 to 10 and stop the loop when the number 7 is reached.\n"
   ]
  },
  {
   "cell_type": "code",
   "execution_count": 8,
   "id": "8789ea95",
   "metadata": {},
   "outputs": [
    {
     "name": "stdout",
     "output_type": "stream",
     "text": [
      "1\n",
      "2\n",
      "3\n",
      "4\n",
      "5\n",
      "6\n"
     ]
    }
   ],
   "source": [
    "for i in range(1, 11):\n",
    "    if i == 7:\n",
    "        break\n",
    "    print(i)"
   ]
  },
  {
   "cell_type": "markdown",
   "id": "8da1a663",
   "metadata": {},
   "source": [
    "# Exercise 8 \n",
    "\n",
    "Print the number 1 to 10, skipping 4 and 5."
   ]
  },
  {
   "cell_type": "code",
   "execution_count": 9,
   "id": "83c0cd03",
   "metadata": {},
   "outputs": [
    {
     "name": "stdout",
     "output_type": "stream",
     "text": [
      "1\n",
      "2\n",
      "3\n",
      "6\n",
      "7\n",
      "8\n",
      "9\n",
      "10\n"
     ]
    }
   ],
   "source": [
    "for i in range(1, 11):\n",
    "    if i == 4 or i == 5:\n",
    "        continue\n",
    "    print(i)"
   ]
  }
 ],
 "metadata": {
  "kernelspec": {
   "display_name": "Python 3",
   "language": "python",
   "name": "python3"
  },
  "language_info": {
   "codemirror_mode": {
    "name": "ipython",
    "version": 3
   },
   "file_extension": ".py",
   "mimetype": "text/x-python",
   "name": "python",
   "nbconvert_exporter": "python",
   "pygments_lexer": "ipython3",
   "version": "3.10.12"
  }
 },
 "nbformat": 4,
 "nbformat_minor": 5
}
