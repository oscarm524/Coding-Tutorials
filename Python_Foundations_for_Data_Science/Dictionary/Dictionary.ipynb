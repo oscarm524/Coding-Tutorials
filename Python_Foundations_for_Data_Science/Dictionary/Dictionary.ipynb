{
 "cells": [
  {
   "cell_type": "markdown",
   "id": "3a4f4779",
   "metadata": {},
   "source": [
    "# Exercise 1\n",
    "\n",
    "You have a small dataset representing a user's activity and demographic information.\n",
    "\n",
    "## Exercise 1(a)\n",
    "\n",
    "Create a dictionary named `user_profile` to store the following data:\n",
    "\n",
    "- `User_ID`: A45B\n",
    "- `Age`: 34\n",
    "- `Country`: Canada\n",
    "- `Last_Login_Days_Ago`: 2\n",
    "- `Is_Premium`: True"
   ]
  },
  {
   "cell_type": "code",
   "execution_count": 1,
   "id": "bc56c66b",
   "metadata": {},
   "outputs": [
    {
     "data": {
      "text/plain": [
       "{'User_ID': 'A45B',\n",
       " 'Age': 34,\n",
       " 'Country': 'Canada',\n",
       " 'Last_Login_Days_Ago': 2,\n",
       " 'Is_Premium': True}"
      ]
     },
     "execution_count": 1,
     "metadata": {},
     "output_type": "execute_result"
    }
   ],
   "source": [
    "user_profile = {\n",
    "    \"User_ID\": \"A45B\",\n",
    "    \"Age\": 34,\n",
    "    \"Country\": \"Canada\",\n",
    "    \"Last_Login_Days_Ago\": 2,\n",
    "    \"Is_Premium\": True\n",
    "}\n",
    "user_profile "
   ]
  },
  {
   "cell_type": "markdown",
   "id": "ade29612",
   "metadata": {},
   "source": [
    "## Exercise 1(b)\n",
    "\n",
    "Write code to retrieve the value associated with the `Country` key."
   ]
  },
  {
   "cell_type": "code",
   "execution_count": 2,
   "id": "3e9b72b0",
   "metadata": {},
   "outputs": [
    {
     "data": {
      "text/plain": [
       "'Canada'"
      ]
     },
     "execution_count": 2,
     "metadata": {},
     "output_type": "execute_result"
    }
   ],
   "source": [
    "user_profile[\"Country\"]"
   ]
  },
  {
   "cell_type": "markdown",
   "id": "800fb9d8",
   "metadata": {},
   "source": [
    "## Exercise 1(c)\n",
    "\n",
    "Write a line of code to update the `Age` to 35."
   ]
  },
  {
   "cell_type": "code",
   "execution_count": 3,
   "id": "667f0f0f",
   "metadata": {},
   "outputs": [
    {
     "data": {
      "text/plain": [
       "{'User_ID': 'A45B',\n",
       " 'Age': 34,\n",
       " 'Country': 'Canada',\n",
       " 'Last_Login_Days_Ago': 2,\n",
       " 'Is_Premium': True}"
      ]
     },
     "execution_count": 3,
     "metadata": {},
     "output_type": "execute_result"
    }
   ],
   "source": [
    "user_profile"
   ]
  },
  {
   "cell_type": "code",
   "execution_count": 4,
   "id": "adaeb6ae",
   "metadata": {},
   "outputs": [
    {
     "data": {
      "text/plain": [
       "{'User_ID': 'A45B',\n",
       " 'Age': 35,\n",
       " 'Country': 'Canada',\n",
       " 'Last_Login_Days_Ago': 2,\n",
       " 'Is_Premium': True}"
      ]
     },
     "execution_count": 4,
     "metadata": {},
     "output_type": "execute_result"
    }
   ],
   "source": [
    "user_profile[\"Age\"] = 35\n",
    "user_profile"
   ]
  },
  {
   "cell_type": "markdown",
   "id": "9ad1c684",
   "metadata": {},
   "source": [
    "# Exercise 2\n",
    "\n",
    "You are loading data about three samples.\n",
    "\n",
    "## Exercise 2(a)\n",
    "\n",
    "Create a dictionary `sample_data` where the keys are the column names (`Sample_ID`, `Temperature (C)`, `pH`) and the values are lists containing the corresponding data.\n",
    "\n",
    "```\n",
    "sample_data = {\n",
    "    'Sample_ID': [101, 102, 103],\n",
    "    'Temperature (C)': [25.5, 27.1, 26.0],\n",
    "    'pH': [7.2, 6.8, 7.0]\n",
    "}\n",
    "```"
   ]
  },
  {
   "cell_type": "code",
   "execution_count": 5,
   "id": "de877560",
   "metadata": {},
   "outputs": [
    {
     "data": {
      "text/plain": [
       "{'Sample_ID': [101, 102, 103],\n",
       " 'Temperature (C)': [25.5, 27.1, 26.0],\n",
       " 'pH': [7.2, 6.8, 7.0]}"
      ]
     },
     "execution_count": 5,
     "metadata": {},
     "output_type": "execute_result"
    }
   ],
   "source": [
    "sample_data = {\n",
    "    'Sample_ID': [101, 102, 103],\n",
    "    'Temperature (C)': [25.5, 27.1, 26.0],\n",
    "    'pH': [7.2, 6.8, 7.0]\n",
    "}\n",
    "sample_data"
   ]
  },
  {
   "cell_type": "markdown",
   "id": "05dbda59",
   "metadata": {},
   "source": [
    "## Exercise 2(b)\n",
    "\n",
    "Create a data-frame called `df` using the `sample_data` dictionary."
   ]
  },
  {
   "cell_type": "code",
   "execution_count": 6,
   "id": "4423fa34",
   "metadata": {},
   "outputs": [
    {
     "data": {
      "text/html": [
       "<div>\n",
       "<style scoped>\n",
       "    .dataframe tbody tr th:only-of-type {\n",
       "        vertical-align: middle;\n",
       "    }\n",
       "\n",
       "    .dataframe tbody tr th {\n",
       "        vertical-align: top;\n",
       "    }\n",
       "\n",
       "    .dataframe thead th {\n",
       "        text-align: right;\n",
       "    }\n",
       "</style>\n",
       "<table border=\"1\" class=\"dataframe\">\n",
       "  <thead>\n",
       "    <tr style=\"text-align: right;\">\n",
       "      <th></th>\n",
       "      <th>Sample_ID</th>\n",
       "      <th>Temperature (C)</th>\n",
       "      <th>pH</th>\n",
       "    </tr>\n",
       "  </thead>\n",
       "  <tbody>\n",
       "    <tr>\n",
       "      <th>0</th>\n",
       "      <td>101</td>\n",
       "      <td>25.5</td>\n",
       "      <td>7.2</td>\n",
       "    </tr>\n",
       "    <tr>\n",
       "      <th>1</th>\n",
       "      <td>102</td>\n",
       "      <td>27.1</td>\n",
       "      <td>6.8</td>\n",
       "    </tr>\n",
       "    <tr>\n",
       "      <th>2</th>\n",
       "      <td>103</td>\n",
       "      <td>26.0</td>\n",
       "      <td>7.0</td>\n",
       "    </tr>\n",
       "  </tbody>\n",
       "</table>\n",
       "</div>"
      ],
      "text/plain": [
       "   Sample_ID  Temperature (C)   pH\n",
       "0        101             25.5  7.2\n",
       "1        102             27.1  6.8\n",
       "2        103             26.0  7.0"
      ]
     },
     "execution_count": 6,
     "metadata": {},
     "output_type": "execute_result"
    }
   ],
   "source": [
    "import pandas as pd\n",
    "\n",
    "df = pd.DataFrame(sample_data)\n",
    "df"
   ]
  },
  {
   "cell_type": "markdown",
   "id": "71267dee",
   "metadata": {},
   "source": [
    "## Exercise 2(c)\n",
    "\n",
    "Report the average `pH`."
   ]
  },
  {
   "cell_type": "code",
   "execution_count": 7,
   "id": "c1a4e5ab",
   "metadata": {},
   "outputs": [
    {
     "data": {
      "text/plain": [
       "7.0"
      ]
     },
     "execution_count": 7,
     "metadata": {},
     "output_type": "execute_result"
    }
   ],
   "source": [
    "df[\"pH\"].mean()"
   ]
  },
  {
   "cell_type": "markdown",
   "id": "450ffdf1",
   "metadata": {},
   "source": [
    "# Exercise 3\n",
    "\n",
    "Use a dictionary to store application settings, a common use case for configuration files in data pipelines.\n",
    "\n",
    "## Exercise 3(a)\n",
    "\n",
    "Create a dictionary `pipeline_config` with the following configuration settings:\n",
    "\n",
    "```\n",
    "\"batch_size\": 512\n",
    "\"learning_rate\": 0.001\n",
    "\"output_dir\": '/data/processed/v3'\n",
    "\"use_gpu\": True\n",
    "```"
   ]
  },
  {
   "cell_type": "code",
   "execution_count": 8,
   "id": "48c23822",
   "metadata": {},
   "outputs": [
    {
     "data": {
      "text/plain": [
       "{'batch_size': 512,\n",
       " 'learning_rate': 0.001,\n",
       " 'output_dir': '/data/processed/v3',\n",
       " 'use_gpu': True}"
      ]
     },
     "execution_count": 8,
     "metadata": {},
     "output_type": "execute_result"
    }
   ],
   "source": [
    "pipeline_config = {\n",
    "    \"batch_size\": 512,\n",
    "    \"learning_rate\": 0.001,\n",
    "    \"output_dir\": '/data/processed/v3',\n",
    "    \"use_gpu\": True\n",
    "}\n",
    "pipeline_config"
   ]
  },
  {
   "cell_type": "markdown",
   "id": "5ff6cf15",
   "metadata": {},
   "source": [
    "## Exercise 3(b)\n",
    "\n",
    "Write a conditional statement that prints \"Using GPU for accelerated training.\" only if the `use_gpu` setting is `True` and the `batch_size` is greater than 500."
   ]
  },
  {
   "cell_type": "code",
   "execution_count": 9,
   "id": "dc72f65e",
   "metadata": {},
   "outputs": [
    {
     "name": "stdout",
     "output_type": "stream",
     "text": [
      "Using GPU for accelerated training\n"
     ]
    }
   ],
   "source": [
    "if pipeline_config[\"use_gpu\"]==True and pipeline_config[\"batch_size\"] > 500:\n",
    "    print(\"Using GPU for accelerated training\")"
   ]
  }
 ],
 "metadata": {
  "kernelspec": {
   "display_name": "Python 3",
   "language": "python",
   "name": "python3"
  },
  "language_info": {
   "codemirror_mode": {
    "name": "ipython",
    "version": 3
   },
   "file_extension": ".py",
   "mimetype": "text/x-python",
   "name": "python",
   "nbconvert_exporter": "python",
   "pygments_lexer": "ipython3",
   "version": "3.10.12"
  }
 },
 "nbformat": 4,
 "nbformat_minor": 5
}
