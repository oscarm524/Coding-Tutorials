{
 "cells": [
  {
   "cell_type": "markdown",
   "metadata": {},
   "source": [
    "# Exercise 1\n",
    "\n",
    "Given a random array of shape (100,), count how many values are greater than 1.5 and set all negatives to 0."
   ]
  },
  {
   "cell_type": "code",
   "execution_count": 2,
   "metadata": {},
   "outputs": [
    {
     "name": "stdout",
     "output_type": "stream",
     "text": [
      "Original array: [ 0.49671415 -0.1382643   0.64768854  1.52302986 -0.23415337 -0.23413696\n",
      "  1.57921282  0.76743473 -0.46947439  0.54256004 -0.46341769 -0.46572975\n",
      "  0.24196227 -1.91328024 -1.72491783 -0.56228753 -1.01283112  0.31424733\n",
      " -0.90802408 -1.4123037   1.46564877 -0.2257763   0.0675282  -1.42474819\n",
      " -0.54438272  0.11092259 -1.15099358  0.37569802 -0.60063869 -0.29169375\n",
      " -0.60170661  1.85227818 -0.01349722 -1.05771093  0.82254491 -1.22084365\n",
      "  0.2088636  -1.95967012 -1.32818605  0.19686124  0.73846658  0.17136828\n",
      " -0.11564828 -0.3011037  -1.47852199 -0.71984421 -0.46063877  1.05712223\n",
      "  0.34361829 -1.76304016  0.32408397 -0.38508228 -0.676922    0.61167629\n",
      "  1.03099952  0.93128012 -0.83921752 -0.30921238  0.33126343  0.97554513\n",
      " -0.47917424 -0.18565898 -1.10633497 -1.19620662  0.81252582  1.35624003\n",
      " -0.07201012  1.0035329   0.36163603 -0.64511975  0.36139561  1.53803657\n",
      " -0.03582604  1.56464366 -2.6197451   0.8219025   0.08704707 -0.29900735\n",
      "  0.09176078 -1.98756891 -0.21967189  0.35711257  1.47789404 -0.51827022\n",
      " -0.8084936  -0.50175704  0.91540212  0.32875111 -0.5297602   0.51326743\n",
      "  0.09707755  0.96864499 -0.70205309 -0.32766215 -0.39210815 -1.46351495\n",
      "  0.29612028  0.26105527  0.00511346 -0.23458713]\n",
      "Number of values greater than 1.5: 5\n",
      "Array after setting negative values to zero: [0.49671415 0.         0.64768854 1.52302986 0.         0.\n",
      " 1.57921282 0.76743473 0.         0.54256004 0.         0.\n",
      " 0.24196227 0.         0.         0.         0.         0.31424733\n",
      " 0.         0.         1.46564877 0.         0.0675282  0.\n",
      " 0.         0.11092259 0.         0.37569802 0.         0.\n",
      " 0.         1.85227818 0.         0.         0.82254491 0.\n",
      " 0.2088636  0.         0.         0.19686124 0.73846658 0.17136828\n",
      " 0.         0.         0.         0.         0.         1.05712223\n",
      " 0.34361829 0.         0.32408397 0.         0.         0.61167629\n",
      " 1.03099952 0.93128012 0.         0.         0.33126343 0.97554513\n",
      " 0.         0.         0.         0.         0.81252582 1.35624003\n",
      " 0.         1.0035329  0.36163603 0.         0.36139561 1.53803657\n",
      " 0.         1.56464366 0.         0.8219025  0.08704707 0.\n",
      " 0.09176078 0.         0.         0.35711257 1.47789404 0.\n",
      " 0.         0.         0.91540212 0.32875111 0.         0.51326743\n",
      " 0.09707755 0.96864499 0.         0.         0.         0.\n",
      " 0.29612028 0.26105527 0.00511346 0.        ]\n"
     ]
    }
   ],
   "source": [
    "import numpy as np\n",
    "\n",
    "np.random.seed(42)  # Set a random seed for reproducibility\n",
    "\n",
    "# Creating the 1D array with 100 values\n",
    "X = np.random.randn(100)\n",
    "print(\"Original array:\", X)\n",
    "\n",
    "# Counting the number of values greater than 1.5\n",
    "count_gt_15 = (X > 1.5).sum()\n",
    "print(\"Number of values greater than 1.5:\", count_gt_15)\n",
    "\n",
    "# Setting negative values to zero\n",
    "X[X<0] = 0\n",
    "print(\"Array after setting negative values to zero:\", X)"
   ]
  },
  {
   "cell_type": "markdown",
   "metadata": {},
   "source": [
    "# Exercise 2\n",
    "\n",
    "Create a (6,3) array of standard normal values. Compute column-wise mean, std, min, and argmax."
   ]
  },
  {
   "cell_type": "code",
   "execution_count": 3,
   "metadata": {},
   "outputs": [
    {
     "name": "stdout",
     "output_type": "stream",
     "text": [
      "Original 2D array:\n",
      " [[ 0.49671415 -0.1382643   0.64768854]\n",
      " [ 1.52302986 -0.23415337 -0.23413696]\n",
      " [ 1.57921282  0.76743473 -0.46947439]\n",
      " [ 0.54256004 -0.46341769 -0.46572975]\n",
      " [ 0.24196227 -1.91328024 -1.72491783]\n",
      " [-0.56228753 -1.01283112  0.31424733]]\n",
      "Mean of each column: [ 0.63686527 -0.49908533 -0.32205384]\n",
      "Standard deviation of each column: [0.74114306 0.82357028 0.74871132]\n",
      "Minimum value of each column: [-0.56228753 -1.91328024 -1.72491783]\n",
      "Index of maximum value in each column: [2 2 0]\n"
     ]
    }
   ],
   "source": [
    "np.random.seed(42)  # Reset the random seed for reproducibility \n",
    "\n",
    "# Creating a 2D array with shape (6, 3)\n",
    "X = np.random.randn(6, 3)\n",
    "print(\"Original 2D array:\\n\", X)\n",
    "\n",
    "# Computing the mean of each column\n",
    "column_means = X.mean(axis=0)\n",
    "print(\"Mean of each column:\", column_means)\n",
    "\n",
    "# Computing the standard deviation of each column\n",
    "column_stds = X.std(axis=0)\n",
    "print(\"Standard deviation of each column:\", column_stds)\n",
    "\n",
    "# Computing the minimum value of each column\n",
    "column_mins = X.min(axis=0)\n",
    "print(\"Minimum value of each column:\", column_mins)\n",
    "\n",
    "# Extracting the argmax of each column\n",
    "column_argmax = X.argmax(axis=0)\n",
    "print(\"Index of maximum value in each column:\", column_argmax)"
   ]
  },
  {
   "cell_type": "markdown",
   "metadata": {},
   "source": [
    "# Exercise 3\n",
    "\n",
    "Given an array, replace values greater than the mean with 1, less than the mean with -1, and equal to mean with 0."
   ]
  },
  {
   "cell_type": "code",
   "execution_count": 4,
   "metadata": {},
   "outputs": [
    {
     "name": "stdout",
     "output_type": "stream",
     "text": [
      "Original array: [ 0.49671415 -0.1382643   0.64768854  1.52302986 -0.23415337 -0.23413696\n",
      "  1.57921282  0.76743473 -0.46947439  0.54256004 -0.46341769 -0.46572975\n",
      "  0.24196227 -1.91328024 -1.72491783 -0.56228753 -1.01283112  0.31424733\n",
      " -0.90802408 -1.4123037 ]\n",
      "Mean of the array: -0.17129856144182892\n",
      "Array after replacing values based on mean:\n",
      " [ 1  1  1  1 -1 -1  1  1 -1  1 -1 -1  1 -1 -1 -1 -1  1 -1 -1]\n"
     ]
    }
   ],
   "source": [
    "np.random.seed(42)  # Reset the random seed for reproducibility\n",
    "\n",
    "# Creating a 1D array\n",
    "X = np.random.randn(20)\n",
    "print(\"Original array:\", X)\n",
    "\n",
    "# Computing the mean of the array\n",
    "mean_X = X.mean()\n",
    "print(\"Mean of the array:\", mean_X)\n",
    "\n",
    "# Replacing values greater than the mean with the mean value\n",
    "X = np.where(X > mean_X, 1, \n",
    "             np.where(X < mean_X, -1, 0))\n",
    "print(\"Array after replacing values based on mean:\\n\", X)"
   ]
  },
  {
   "cell_type": "markdown",
   "metadata": {},
   "source": [
    "# Exercise 4 \n",
    "\n",
    "For a daily returns array, compute cumulative returns (product of 1+r), and rolling cumulative sum (cumsum) as a quick check."
   ]
  },
  {
   "cell_type": "code",
   "execution_count": 5,
   "metadata": {},
   "outputs": [
    {
     "name": "stdout",
     "output_type": "stream",
     "text": [
      "Original array: [ 0.0008511   0.01601622 -0.01999428 -0.00488337 -0.01266221 -0.01538307\n",
      " -0.01068699 -0.00272196 -0.00016163  0.00694084  0.00095973  0.01426098\n",
      " -0.00977739  0.02390587 -0.01863062  0.01352338  0.00086524  0.00793449\n",
      " -0.01298065 -0.01009493]\n",
      "Cumulative returns: [ 0.0008511   0.01688096 -0.00345085 -0.00831737 -0.02087426 -0.03593622\n",
      " -0.04623916 -0.04883526 -0.04898899 -0.04238818 -0.04146913 -0.02779955\n",
      " -0.03730513 -0.01429107 -0.03265544 -0.01957368 -0.01872537 -0.01093946\n",
      " -0.02377811 -0.033633  ]\n",
      "Cumulative sum: [ 0.0008511   0.01686732 -0.00312696 -0.00801033 -0.02067253 -0.0360556\n",
      " -0.04674259 -0.04946456 -0.04962618 -0.04268535 -0.04172562 -0.02746465\n",
      " -0.03724203 -0.01333616 -0.03196678 -0.01844341 -0.01757817 -0.00964367\n",
      " -0.02262433 -0.03271925]\n"
     ]
    }
   ],
   "source": [
    "np.random.seed(1)  # Reset the random seed for reproducibility\n",
    "\n",
    "# Creating the 1D array\n",
    "X = np.random.uniform(-0.02, 0.03, size=20)\n",
    "print(\"Original array:\", X)\n",
    "\n",
    "# Computing the cumulative returns\n",
    "cumulative_returns = np.cumprod(1 + X) - 1\n",
    "print(\"Cumulative returns:\", cumulative_returns)\n",
    "\n",
    "# Computing the cumulative sum\n",
    "cumulative_sum = np.cumsum(X)\n",
    "print(\"Cumulative sum:\", cumulative_sum)"
   ]
  },
  {
   "cell_type": "markdown",
   "metadata": {},
   "source": [
    "# Exercise 5 \n",
    "\n",
    "Generate 1,000 samples. Find the 5th, 50th, and 95th percentiles. "
   ]
  },
  {
   "cell_type": "code",
   "execution_count": 6,
   "metadata": {},
   "outputs": [
    {
     "name": "stdout",
     "output_type": "stream",
     "text": [
      "5th percentile: -1.4431806621524406\n",
      "50th percentile (median): 0.050019125061804115\n",
      "95th percentile: 1.6316918349571028\n"
     ]
    }
   ],
   "source": [
    "np.random.seed(4)  # Reset the random seed for reproducibility\n",
    "\n",
    "# Creating a 1D array\n",
    "X = np.random.randn(1000)\n",
    "\n",
    "# Computing the 5th percentile\n",
    "percentile_5 = np.percentile(X, 5)\n",
    "print(\"5th percentile:\", percentile_5)\n",
    "\n",
    "# Computing the 50th percentile (median)\n",
    "percentile_50 = np.percentile(X, 50)\n",
    "print(\"50th percentile (median):\", percentile_50)\n",
    "\n",
    "# Computing the 95th percentile\n",
    "percentile_95 = np.percentile(X, 95)\n",
    "print(\"95th percentile:\", percentile_95)"
   ]
  }
 ],
 "metadata": {
  "kernelspec": {
   "display_name": "Python 3",
   "language": "python",
   "name": "python3"
  },
  "language_info": {
   "codemirror_mode": {
    "name": "ipython",
    "version": 3
   },
   "file_extension": ".py",
   "mimetype": "text/x-python",
   "name": "python",
   "nbconvert_exporter": "python",
   "pygments_lexer": "ipython3",
   "version": "3.10.12"
  }
 },
 "nbformat": 4,
 "nbformat_minor": 2
}
