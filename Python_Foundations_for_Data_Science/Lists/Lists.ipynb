{
 "cells": [
  {
   "cell_type": "markdown",
   "id": "ab8ead0a",
   "metadata": {},
   "source": [
    "# Exercise 1 \n",
    "\n",
    "Create a list named `colors` that contains `red`, `green`, and `blue`."
   ]
  },
  {
   "cell_type": "code",
   "execution_count": 1,
   "id": "879b6d68",
   "metadata": {},
   "outputs": [
    {
     "data": {
      "text/plain": [
       "['red', 'green', 'blue']"
      ]
     },
     "execution_count": 1,
     "metadata": {},
     "output_type": "execute_result"
    }
   ],
   "source": [
    "colors = [\"red\", \"green\", \"blue\"]\n",
    "colors"
   ]
  },
  {
   "cell_type": "markdown",
   "id": "20242ec6",
   "metadata": {},
   "source": [
    "# Exercise 2\n",
    "\n",
    "Print the second element from the list `colors`."
   ]
  },
  {
   "cell_type": "code",
   "execution_count": 2,
   "id": "43d83e07",
   "metadata": {},
   "outputs": [
    {
     "data": {
      "text/plain": [
       "3"
      ]
     },
     "execution_count": 2,
     "metadata": {},
     "output_type": "execute_result"
    }
   ],
   "source": [
    "len(colors)"
   ]
  },
  {
   "cell_type": "code",
   "execution_count": 3,
   "id": "c362aaf1",
   "metadata": {},
   "outputs": [
    {
     "data": {
      "text/plain": [
       "'green'"
      ]
     },
     "execution_count": 3,
     "metadata": {},
     "output_type": "execute_result"
    }
   ],
   "source": [
    "colors[1]"
   ]
  },
  {
   "cell_type": "markdown",
   "id": "41067030",
   "metadata": {},
   "source": [
    "# Exercise 3\n",
    "\n",
    "Change `green` to `yellow` in the list."
   ]
  },
  {
   "cell_type": "code",
   "execution_count": 4,
   "id": "f651cfa7",
   "metadata": {},
   "outputs": [
    {
     "data": {
      "text/plain": [
       "['red', 'green', 'blue']"
      ]
     },
     "execution_count": 4,
     "metadata": {},
     "output_type": "execute_result"
    }
   ],
   "source": [
    "colors"
   ]
  },
  {
   "cell_type": "code",
   "execution_count": 6,
   "id": "0852d017",
   "metadata": {},
   "outputs": [
    {
     "data": {
      "text/plain": [
       "['red', 'yellow', 'blue']"
      ]
     },
     "execution_count": 6,
     "metadata": {},
     "output_type": "execute_result"
    }
   ],
   "source": [
    "colors[1] = \"yellow\"\n",
    "colors"
   ]
  },
  {
   "cell_type": "markdown",
   "id": "c60ad67c",
   "metadata": {},
   "source": [
    "# Exercise 4\n",
    "\n",
    "Add `orange` to the end of the list and `pink` at index 1."
   ]
  },
  {
   "cell_type": "code",
   "execution_count": 7,
   "id": "d4ad892c",
   "metadata": {},
   "outputs": [
    {
     "data": {
      "text/plain": [
       "['red', 'yellow', 'blue']"
      ]
     },
     "execution_count": 7,
     "metadata": {},
     "output_type": "execute_result"
    }
   ],
   "source": [
    "colors"
   ]
  },
  {
   "cell_type": "code",
   "execution_count": 8,
   "id": "2bd37b3e",
   "metadata": {},
   "outputs": [
    {
     "data": {
      "text/plain": [
       "['red', 'yellow', 'blue', 'orange']"
      ]
     },
     "execution_count": 8,
     "metadata": {},
     "output_type": "execute_result"
    }
   ],
   "source": [
    "colors.append(\"orange\")\n",
    "colors"
   ]
  },
  {
   "cell_type": "code",
   "execution_count": 9,
   "id": "352be4ec",
   "metadata": {},
   "outputs": [
    {
     "data": {
      "text/plain": [
       "['red', 'pink', 'yellow', 'blue', 'orange']"
      ]
     },
     "execution_count": 9,
     "metadata": {},
     "output_type": "execute_result"
    }
   ],
   "source": [
    "colors.insert(1, \"pink\")\n",
    "colors"
   ]
  },
  {
   "cell_type": "markdown",
   "id": "c4e6e79c",
   "metadata": {},
   "source": [
    "# Exercise 5\n",
    "\n",
    "Remove `blue` from the list using `remove()`."
   ]
  },
  {
   "cell_type": "code",
   "execution_count": 10,
   "id": "bf284340",
   "metadata": {},
   "outputs": [
    {
     "data": {
      "text/plain": [
       "['red', 'pink', 'yellow', 'blue', 'orange']"
      ]
     },
     "execution_count": 10,
     "metadata": {},
     "output_type": "execute_result"
    }
   ],
   "source": [
    "colors"
   ]
  },
  {
   "cell_type": "code",
   "execution_count": 11,
   "id": "3e645af9",
   "metadata": {},
   "outputs": [],
   "source": [
    "colors.remove(\"blue\")"
   ]
  },
  {
   "cell_type": "code",
   "execution_count": 12,
   "id": "8eef7aa6",
   "metadata": {},
   "outputs": [
    {
     "data": {
      "text/plain": [
       "['red', 'pink', 'yellow', 'orange']"
      ]
     },
     "execution_count": 12,
     "metadata": {},
     "output_type": "execute_result"
    }
   ],
   "source": [
    "colors"
   ]
  },
  {
   "cell_type": "markdown",
   "id": "277ffd3b",
   "metadata": {},
   "source": [
    "# Exercise 6\n",
    "\n",
    "Remove the last element of `colors` with `pop()`"
   ]
  },
  {
   "cell_type": "code",
   "execution_count": 13,
   "id": "6bded11c",
   "metadata": {},
   "outputs": [
    {
     "data": {
      "text/plain": [
       "['red', 'pink', 'yellow', 'orange']"
      ]
     },
     "execution_count": 13,
     "metadata": {},
     "output_type": "execute_result"
    }
   ],
   "source": [
    "colors"
   ]
  },
  {
   "cell_type": "code",
   "execution_count": 14,
   "id": "5a65b106",
   "metadata": {},
   "outputs": [
    {
     "data": {
      "text/plain": [
       "['red', 'pink', 'yellow']"
      ]
     },
     "execution_count": 14,
     "metadata": {},
     "output_type": "execute_result"
    }
   ],
   "source": [
    "colors.pop()\n",
    "colors"
   ]
  },
  {
   "cell_type": "markdown",
   "id": "f07296bf",
   "metadata": {},
   "source": [
    "# Exercise 7\n",
    "\n",
    "Use a `for` loop to iterate through `colors` and print the items."
   ]
  },
  {
   "cell_type": "code",
   "execution_count": 16,
   "id": "27f09be4",
   "metadata": {},
   "outputs": [
    {
     "name": "stdout",
     "output_type": "stream",
     "text": [
      "red\n",
      "pink\n",
      "yellow\n"
     ]
    }
   ],
   "source": [
    "for i in colors:\n",
    "    print(i)"
   ]
  },
  {
   "cell_type": "markdown",
   "id": "02888b4a",
   "metadata": {},
   "source": [
    "# Exercise 8 \n",
    "\n",
    "Print the first two items of `colors` using slicing."
   ]
  },
  {
   "cell_type": "code",
   "execution_count": 17,
   "id": "c13400b3",
   "metadata": {},
   "outputs": [
    {
     "data": {
      "text/plain": [
       "['red', 'pink', 'yellow']"
      ]
     },
     "execution_count": 17,
     "metadata": {},
     "output_type": "execute_result"
    }
   ],
   "source": [
    "colors"
   ]
  },
  {
   "cell_type": "code",
   "execution_count": 18,
   "id": "5fb55483",
   "metadata": {},
   "outputs": [
    {
     "data": {
      "text/plain": [
       "['red', 'pink']"
      ]
     },
     "execution_count": 18,
     "metadata": {},
     "output_type": "execute_result"
    }
   ],
   "source": [
    "colors[0:2]"
   ]
  },
  {
   "cell_type": "markdown",
   "id": "ea5bbd74",
   "metadata": {},
   "source": [
    "# Exercise 9\n",
    "\n",
    "Consider the folowing list:\n",
    "\n",
    "```\n",
    "numbers = [10, 11, 35, 49, 2, 75, 39]\n",
    "```\n",
    "\n",
    "Report the mean, minimun, and maximum values of `numbers`"
   ]
  },
  {
   "cell_type": "code",
   "execution_count": 21,
   "id": "10f37042",
   "metadata": {},
   "outputs": [
    {
     "name": "stdout",
     "output_type": "stream",
     "text": [
      "The mean of the numbers is: 31.571428571428573\n",
      "The minimum of the numbers is: 2\n",
      "The maximum of the numbers is: 75\n"
     ]
    }
   ],
   "source": [
    "numbers = [10, 11, 35, 49, 2, 75, 39]\n",
    "\n",
    "mean = sum(numbers) / len(numbers)\n",
    "print(f\"The mean of the numbers is: {mean}\")\n",
    "\n",
    "min = min(numbers)\n",
    "print(f\"The minimum of the numbers is: {min}\")\n",
    "\n",
    "max = max(numbers)\n",
    "print(f\"The maximum of the numbers is: {max}\")"
   ]
  }
 ],
 "metadata": {
  "kernelspec": {
   "display_name": "Python 3",
   "language": "python",
   "name": "python3"
  },
  "language_info": {
   "codemirror_mode": {
    "name": "ipython",
    "version": 3
   },
   "file_extension": ".py",
   "mimetype": "text/x-python",
   "name": "python",
   "nbconvert_exporter": "python",
   "pygments_lexer": "ipython3",
   "version": "3.10.12"
  }
 },
 "nbformat": 4,
 "nbformat_minor": 5
}
